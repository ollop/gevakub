{
 "cells": [
  {
   "cell_type": "code",
   "execution_count": 1,
   "metadata": {},
   "outputs": [],
   "source": [
    "import sqlite3\n",
    "import pandas as pd\n",
    "\n",
    "# Create the connection\n",
    "cnx = sqlite3.connect(r'./database.sqlite')\n",
    "\n",
    "# create the dataframe from a query\n",
    "df_participants = pd.read_sql_query(\"SELECT * FROM participants\", cnx)"
   ]
  },
  {
   "cell_type": "code",
   "execution_count": 2,
   "metadata": {},
   "outputs": [],
   "source": [
    "# remove invalid entries\n",
    "# remove invalid entries (1-4 = testing, 14 is pid 10 (aborted study)) \n",
    "df_participants = df_participants[(df_participants.id != 1) & (df_participants.id != 2) & (df_participants.id != 3) & (df_participants.id != 4) & (df_participants.id != 14)]"
   ]
  },
  {
   "cell_type": "code",
   "execution_count": 16,
   "metadata": {},
   "outputs": [
    {
     "name": "stdout",
     "output_type": "stream",
     "text": [
      "    id  key  age  height  gender dominant_hand  prior_experience_ar  \\\n",
      "4    5    1   26     176    Male         Right                    1   \n",
      "5    6    2   34     196    Male         Right                    1   \n",
      "6    7    3   24     187    Male         Right                    1   \n",
      "7    8    4   24     164  Female         Right                    1   \n",
      "8    9    5   26     165  Female         Right                    1   \n",
      "9   10    6   22     160  Female         Right                    1   \n",
      "10  11    7   25     160  Female         Right                    1   \n",
      "11  12    8   25     180    Male         Right                    1   \n",
      "12  13    9   27     184    Male          Left                    1   \n",
      "14  15   11   33     177  Female         Right                    1   \n",
      "15  16   12   32     176    Male         Right                    1   \n",
      "16  17   13   27     174    Male         Right                    0   \n",
      "17  18   14   24     176    Male         Right                    1   \n",
      "18  19   15   29     176    Male         Right                    1   \n",
      "19  20   16   22     183    Male         Right                    1   \n",
      "20  21   17   33     176  Female         Right                    1   \n",
      "21  22   18   30     174    Male          Left                    1   \n",
      "22  23   19   35     181    Male         Right                    1   \n",
      "\n",
      "    prior_experience_meta2  \n",
      "4                        0  \n",
      "5                        0  \n",
      "6                        0  \n",
      "7                        0  \n",
      "8                        0  \n",
      "9                        0  \n",
      "10                       1  \n",
      "11                       1  \n",
      "12                       1  \n",
      "14                       0  \n",
      "15                       0  \n",
      "16                       0  \n",
      "17                       0  \n",
      "18                       0  \n",
      "19                       0  \n",
      "20                       0  \n",
      "21                       0  \n",
      "22                       0  \n"
     ]
    }
   ],
   "source": [
    "print (df_participants)"
   ]
  },
  {
   "cell_type": "code",
   "execution_count": 12,
   "metadata": {},
   "outputs": [
    {
     "name": "stdout",
     "output_type": "stream",
     "text": [
      "               key  age  height  gender  prior_experience_ar  \\\n",
      "dominant_hand                                                  \n",
      "Left             2    2       2       2                    2   \n",
      "Right           16   16      16      16                   16   \n",
      "\n",
      "               prior_experience_meta2  \n",
      "dominant_hand                          \n",
      "Left                                2  \n",
      "Right                              16  \n"
     ]
    }
   ],
   "source": [
    "print (df_participants.set_index([\"id\", \"dominant_hand\"]).count(level=\"dominant_hand\"))"
   ]
  },
  {
   "cell_type": "code",
   "execution_count": 17,
   "metadata": {},
   "outputs": [
    {
     "name": "stdout",
     "output_type": "stream",
     "text": [
      "        key  age  height  dominant_hand  prior_experience_ar  \\\n",
      "gender                                                         \n",
      "Female    6    6       6              6                    6   \n",
      "Male     12   12      12             12                   12   \n",
      "\n",
      "        prior_experience_meta2  \n",
      "gender                          \n",
      "Female                       6  \n",
      "Male                        12  \n"
     ]
    }
   ],
   "source": [
    "print (df_participants.set_index([\"id\", \"gender\"]).count(level=\"gender\"))"
   ]
  },
  {
   "cell_type": "code",
   "execution_count": 18,
   "metadata": {},
   "outputs": [
    {
     "name": "stdout",
     "output_type": "stream",
     "text": [
      "count    18.000000\n",
      "mean     27.666667\n",
      "std       4.214820\n",
      "min      22.000000\n",
      "25%      24.250000\n",
      "50%      26.500000\n",
      "75%      31.500000\n",
      "max      35.000000\n",
      "Name: age, dtype: float64\n"
     ]
    }
   ],
   "source": [
    "print (df_participants['age'].describe())"
   ]
  },
  {
   "cell_type": "code",
   "execution_count": 23,
   "metadata": {},
   "outputs": [
    {
     "name": "stdout",
     "output_type": "stream",
     "text": [
      "             key        age      height  prior_experience_ar  \\\n",
      "count  18.000000  18.000000   18.000000            18.000000   \n",
      "mean   10.000000  27.666667  175.833333             0.944444   \n",
      "std     5.790459   4.214820    9.268860             0.235702   \n",
      "min     1.000000  22.000000  160.000000             0.000000   \n",
      "25%     5.250000  24.250000  174.000000             1.000000   \n",
      "50%    10.000000  26.500000  176.000000             1.000000   \n",
      "75%    14.750000  31.500000  180.750000             1.000000   \n",
      "max    19.000000  35.000000  196.000000             1.000000   \n",
      "\n",
      "       prior_experience_meta2  \n",
      "count               18.000000  \n",
      "mean                 0.166667  \n",
      "std                  0.383482  \n",
      "min                  0.000000  \n",
      "25%                  0.000000  \n",
      "50%                  0.000000  \n",
      "75%                  0.000000  \n",
      "max                  1.000000  \n"
     ]
    }
   ],
   "source": [
    "print (df_participants.set_index([\"id\", \"gender\"]).describe())"
   ]
  },
  {
   "cell_type": "code",
   "execution_count": null,
   "metadata": {},
   "outputs": [],
   "source": []
  }
 ],
 "metadata": {
  "kernelspec": {
   "display_name": "Python 3",
   "language": "python",
   "name": "python3"
  },
  "language_info": {
   "codemirror_mode": {
    "name": "ipython",
    "version": 3
   },
   "file_extension": ".py",
   "mimetype": "text/x-python",
   "name": "python",
   "nbconvert_exporter": "python",
   "pygments_lexer": "ipython3",
   "version": "3.7.4"
  }
 },
 "nbformat": 4,
 "nbformat_minor": 4
}
